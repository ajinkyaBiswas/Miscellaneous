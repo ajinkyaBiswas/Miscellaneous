{
 "cells": [
  {
   "cell_type": "markdown",
   "metadata": {},
   "source": [
    "http://codh.rois.ac.jp/kmnist/index.html.en\n",
    "<img src=\"files/kmnist.png\">"
   ]
  },
  {
   "cell_type": "code",
   "execution_count": 1,
   "metadata": {},
   "outputs": [],
   "source": [
    "#!/usr/bin/env python3\n",
    "\n",
    "import torch\n",
    "from torchvision import datasets, transforms\n",
    "from torch import nn, optim\n",
    "import torch.nn.functional as F\n",
    "import matplotlib.pyplot as plt\n",
    "import numpy as np"
   ]
  },
  {
   "cell_type": "markdown",
   "metadata": {},
   "source": [
    "### Let's create few models and we start with a very simple one"
   ]
  },
  {
   "cell_type": "code",
   "execution_count": 2,
   "metadata": {},
   "outputs": [],
   "source": [
    "class Linear(nn.Module):\n",
    "    \"\"\"\n",
    "    Linear (10) -> ReLU -> LogSoftmax\n",
    "    \"\"\"\n",
    "\n",
    "    def __init__(self):\n",
    "        super().__init__()\n",
    "        self.fc1 = nn.Linear(784, 10)\n",
    "\n",
    "    def forward(self, x):\n",
    "        x = x.view(x.shape[0], -1)  # make sure inputs are flattened\n",
    "\n",
    "        x = F.relu(self.fc1(x))\n",
    "        x = F.log_softmax(x, dim=1)  # preserve batch dim\n",
    "\n",
    "        return x"
   ]
  },
  {
   "cell_type": "code",
   "execution_count": 3,
   "metadata": {},
   "outputs": [],
   "source": [
    "class FeedForward(nn.Module):\n",
    "    \"\"\"\n",
    "    Linear (256) -> ReLU -> Linear(64) -> ReLU -> Linear(10) -> ReLU-> LogSoftmax\n",
    "    \"\"\"\n",
    "    def __init__(self):\n",
    "        super().__init__()\n",
    "        # Linear (256)\n",
    "        self.fc1 = nn.Linear(784, 256)\n",
    "        # Linear(64)\n",
    "        self.fc2 = nn.Linear(256, 64)\n",
    "        # Linear(10)\n",
    "        self.fc3 = nn.Linear(64, 10)\n",
    "\n",
    "    def forward(self, x):\n",
    "        # make sure inputs are flattened\n",
    "        x = x.view(x.shape[0], -1)\n",
    "        # Linear (256) -> ReLU ->\n",
    "        x = F.relu(self.fc1(x))\n",
    "        \n",
    "        # Linear(64) -> ReLU ->\n",
    "        x = F.relu(self.fc2(x))\n",
    "\n",
    "        # Linear(10) -> ReLU\n",
    "        x = F.relu(self.fc3(x))\n",
    "\n",
    "        # LogSoftmax\n",
    "        x = F.log_softmax(x, dim=1)  # preserve batch dim\n",
    "\n",
    "        return x"
   ]
  },
  {
   "cell_type": "markdown",
   "metadata": {},
   "source": [
    "### Convolution Neural Network"
   ]
  },
  {
   "cell_type": "code",
   "execution_count": 4,
   "metadata": {},
   "outputs": [],
   "source": [
    "class CNN(nn.Module):\n",
    "    \"\"\"\n",
    "    Implement CNN Network structure\n",
    "\n",
    "    conv1 (channels = 10, kernel size= 5, stride = 1) -> Relu -> max pool (kernel size = 2x2) ->\n",
    "    conv2 (channels = 50, kernel size= 5, stride = 1) -> Relu -> max pool (kernel size = 2x2) ->\n",
    "    Linear (256) -> Relu -> Linear (10) -> LogSoftmax\n",
    "    \"\"\"\n",
    "    def __init__(self):\n",
    "        super().__init__()\n",
    "        \n",
    "        # torch.nn.Conv2d(in_channels, out_channels, kernel_size, stride=1, \n",
    "        # padding=0, dilation=1, groups=1, bias=True, padding_mode='zeros')\n",
    "        \n",
    "        # conv1 (channels = 10, kernel size= 5, stride = 1)\n",
    "        self.conv1 = nn.Conv2d(in_channels = 1, out_channels = 10, kernel_size=5, stride=1)\n",
    "        \n",
    "        # conv2 (channels = 50, kernel size= 5, stride = 1)\n",
    "        self.conv2 = nn.Conv2d(in_channels =10, out_channels = 50, kernel_size=5, stride=1)\n",
    "        \n",
    "        # torch.nn.MaxPool2d(kernel_size, stride=None, padding=0, dilation=1, return_indices=False, ceil_mode=False)\n",
    "        # >>> # pool of square window of size=3, stride=2 >>> m = nn.MaxPool2d(3, stride=2)\n",
    "        # max pool (kernel size = 2x2)\n",
    "        self.maxpool = nn.MaxPool2d(2)\n",
    "        \n",
    "        # Linear (256)\n",
    "        self.fc1 = nn.Linear(50 * 4 * 4, 256)\n",
    "        \n",
    "        # Linear(10)\n",
    "        self.fc2 = nn.Linear(256, 10)\n",
    "        \n",
    "    \n",
    "    def forward(self, x):\n",
    "        # input size [64, 1, 28, 28]\n",
    "        # conv1 (channels = 10, kernel size= 5, stride = 1) -> Relu -> max pool (kernel size = 2x2) ->\n",
    "        x = self.maxpool(F.relu(self.conv1(x)))\n",
    "        # size changed to [64, 10, 12, 12]\n",
    "        \n",
    "        # conv2 (channels = 50, kernel size= 5, stride = 1) -> Relu -> max pool (kernel size = 2x2) ->\n",
    "        x = self.maxpool(F.relu(self.conv2(x)))\n",
    "        # size changed to [64, 50, 4, 4]\n",
    "        \n",
    "        # Size changes from (64, 50, 4, 4) to (64, 50*4*4)\n",
    "        x = x.view(-1, 50 * 4 * 4)\n",
    "        # Linear (256) -> Relu         \n",
    "        x = F.relu(self.fc1(x))\n",
    "        # Linear (10) -> LogSoftmax\n",
    "        x = F.log_softmax(self.fc2(x), dim=1)\n",
    "\n",
    "        return x"
   ]
  },
  {
   "cell_type": "markdown",
   "metadata": {},
   "source": [
    "### Create a NN Model to pass our models and perform tasks"
   ]
  },
  {
   "cell_type": "code",
   "execution_count": 5,
   "metadata": {},
   "outputs": [],
   "source": [
    "class NNModel:\n",
    "    def __init__(self, network, learning_rate):\n",
    "        \"\"\"\n",
    "        Load Data, initialize a given network structure and set learning rate\n",
    "        \"\"\"\n",
    "\n",
    "        # Define a transform to normalize the data\n",
    "        transform = transforms.Compose([transforms.ToTensor(),\n",
    "                                        transforms.Normalize((0.5,), (0.5,))])\n",
    "\n",
    "        # Download and load the training data\n",
    "        trainset = datasets.KMNIST(root='./data', train=True, download=True, transform=transform)\n",
    "        self.trainloader = torch.utils.data.DataLoader(trainset, batch_size=64, shuffle=False)\n",
    "\n",
    "        # Download and load the test data\n",
    "        testset = datasets.KMNIST(root='./data', train=False, download=True, transform=transform)\n",
    "        self.testloader = torch.utils.data.DataLoader(testset, batch_size=64, shuffle=False)\n",
    "\n",
    "        self.model = network\n",
    "\n",
    "        \"\"\"\n",
    "        Set appropriate loss function such that learning is equivalent to minimizing the\n",
    "        cross entropy loss. Note that we are outputting log-softmax values from our networks,\n",
    "        not raw softmax values, so just using torch.nn.CrossEntropyLoss is incorrect.\n",
    "        \"\"\"\n",
    "        self.lossfn = nn.NLLLoss()\n",
    "        self.optimizer = optim.Adam(self.model.parameters(), lr=learning_rate)\n",
    "\n",
    "        self.num_train_samples = len(self.trainloader)\n",
    "        self.num_test_samples = len(self.testloader)\n",
    "\n",
    "    def train_step(self):\n",
    "        self.model.train()\n",
    "        for images, labels in self.trainloader:\n",
    "            log_ps = self.model(images)\n",
    "            loss = self.lossfn(log_ps, labels)\n",
    "\n",
    "            self.optimizer.zero_grad()\n",
    "            loss.backward()\n",
    "            self.optimizer.step()\n",
    "            return\n",
    "\n",
    "    def train_epoch(self):\n",
    "        self.model.train()\n",
    "        for images, labels in self.trainloader:\n",
    "            log_ps = self.model(images)\n",
    "            loss = self.lossfn(log_ps, labels)\n",
    "\n",
    "            self.optimizer.zero_grad()\n",
    "            loss.backward()\n",
    "            self.optimizer.step()\n",
    "        return\n",
    "\n",
    "    def eval(self):\n",
    "        self.model.eval()\n",
    "        accuracy = 0\n",
    "        with torch.no_grad():\n",
    "            for images, labels in self.testloader:\n",
    "                log_ps = self.model(images)\n",
    "                ps = torch.exp(log_ps)\n",
    "                top_p, top_class = ps.topk(1, dim=1)\n",
    "                equals = top_class == labels.view(*top_class.shape)\n",
    "                accuracy += torch.mean(equals.type(torch.FloatTensor))\n",
    "\n",
    "        return accuracy / self.num_test_samples"
   ]
  },
  {
   "cell_type": "code",
   "execution_count": 6,
   "metadata": {},
   "outputs": [],
   "source": [
    "def plot_result(results, names):\n",
    "    \"\"\"\n",
    "    Take a 2D list/array, where row is accuracy at each epoch of training for given model, and\n",
    "    names of each model, and display training curves\n",
    "    \"\"\"\n",
    "    for i, r in enumerate(results):\n",
    "        plt.plot(range(len(r)), r, label=names[i])\n",
    "    plt.legend()\n",
    "    plt.title(\"KMNIST\")\n",
    "    plt.xlabel(\"Epoch\")\n",
    "    plt.ylabel(\"Test accuracy\")\n",
    "    plt.grid(True)\n",
    "    plt.tight_layout()\n",
    "    plt.show()"
   ]
  },
  {
   "cell_type": "markdown",
   "metadata": {},
   "source": [
    "### Note: This took me about 22 minutes to run in my windows laptop (it's a decent laptop)...\n",
    "#### Later I ran on Google Colab with GPU\n",
    "Linear -> Total time taken: 98.78011631965637 seconds<br>\n",
    "FeedFwd ->Total time taken: 112.37653613090515 seconds<br>\n",
    "CNN -> Total time taken: 297.4770438671112 seconds"
   ]
  },
  {
   "cell_type": "code",
   "execution_count": 7,
   "metadata": {
    "scrolled": false
   },
   "outputs": [
    {
     "name": "stdout",
     "output_type": "stream",
     "text": [
      "Downloading http://codh.rois.ac.jp/kmnist/dataset/kmnist/train-images-idx3-ubyte.gz to ./data\\KMNIST\\raw\\train-images-idx3-ubyte.gz\n"
     ]
    },
    {
     "name": "stderr",
     "output_type": "stream",
     "text": [
      "18169856it [00:23, 801580.30it/s]                                                                                      "
     ]
    },
    {
     "name": "stdout",
     "output_type": "stream",
     "text": [
      "Extracting ./data\\KMNIST\\raw\\train-images-idx3-ubyte.gz to ./data\\KMNIST\\raw\n",
      "Downloading http://codh.rois.ac.jp/kmnist/dataset/kmnist/train-labels-idx1-ubyte.gz to ./data\\KMNIST\\raw\\train-labels-idx1-ubyte.gz\n"
     ]
    },
    {
     "name": "stderr",
     "output_type": "stream",
     "text": [
      "\n",
      "0it [00:00, ?it/s]\n",
      "  0%|                                                                                        | 0/29497 [00:00<?, ?it/s]\n",
      "32768it [00:00, 51788.65it/s]                                                                                          \n"
     ]
    },
    {
     "name": "stdout",
     "output_type": "stream",
     "text": [
      "Extracting ./data\\KMNIST\\raw\\train-labels-idx1-ubyte.gz to ./data\\KMNIST\\raw\n",
      "Downloading http://codh.rois.ac.jp/kmnist/dataset/kmnist/t10k-images-idx3-ubyte.gz to ./data\\KMNIST\\raw\\t10k-images-idx3-ubyte.gz\n"
     ]
    },
    {
     "name": "stderr",
     "output_type": "stream",
     "text": [
      "\n",
      "0it [00:00, ?it/s]\n",
      "  0%|                                                                                      | 0/3041136 [00:00<?, ?it/s]\n",
      "  1%|▍                                                                      | 16384/3041136 [00:00<00:36, 82059.28it/s]\n",
      "  1%|▊                                                                      | 32768/3041136 [00:00<00:37, 81179.48it/s]\n",
      "  2%|█▏                                                                     | 49152/3041136 [00:01<00:36, 82241.56it/s]\n",
      "  2%|█▌                                                                     | 65536/3041136 [00:01<00:36, 81937.69it/s]\n",
      "  3%|██                                                                     | 90112/3041136 [00:01<00:32, 89489.16it/s]\n",
      "  4%|██▍                                                                   | 106496/3041136 [00:01<00:33, 87030.05it/s]\n",
      "  4%|███                                                                   | 131072/3041136 [00:01<00:30, 95192.88it/s]\n",
      "  5%|███▌                                                                  | 155648/3041136 [00:02<00:29, 98270.60it/s]\n",
      "  6%|████                                                                 | 180224/3041136 [00:02<00:27, 104411.51it/s]\n",
      "  7%|████▊                                                                | 212992/3041136 [00:02<00:24, 116341.18it/s]\n",
      "  8%|█████▍                                                               | 237568/3041136 [00:02<00:23, 118944.55it/s]\n",
      "  9%|██████▏                                                              | 270336/3041136 [00:02<00:21, 129635.01it/s]\n",
      " 10%|██████▉                                                              | 303104/3041136 [00:03<00:20, 135622.81it/s]\n",
      " 11%|███████▌                                                             | 335872/3041136 [00:03<00:18, 143013.48it/s]\n",
      " 12%|████████▌                                                            | 376832/3041136 [00:03<00:16, 156967.46it/s]\n",
      " 14%|█████████▋                                                           | 425984/3041136 [00:03<00:14, 176229.32it/s]\n",
      " 16%|██████████▉                                                          | 483328/3041136 [00:03<00:12, 199112.21it/s]\n",
      " 18%|████████████▎                                                        | 540672/3041136 [00:04<00:11, 219164.17it/s]\n",
      " 20%|█████████████▊                                                       | 606208/3041136 [00:04<00:09, 243498.47it/s]\n",
      " 22%|███████████████▍                                                     | 679936/3041136 [00:04<00:08, 266284.76it/s]\n",
      " 25%|█████████████████▎                                                   | 761856/3041136 [00:04<00:07, 296904.74it/s]\n",
      " 28%|███████████████████▎                                                 | 851968/3041136 [00:04<00:06, 325631.65it/s]\n",
      " 31%|█████████████████████▌                                               | 950272/3041136 [00:05<00:05, 361701.98it/s]\n",
      " 35%|███████████████████████▋                                            | 1056768/3041136 [00:05<00:04, 400085.86it/s]\n",
      " 39%|██████████████████████████▏                                         | 1171456/3041136 [00:05<00:04, 439668.89it/s]\n",
      " 43%|████████████████████████████▉                                       | 1294336/3041136 [00:05<00:03, 471722.58it/s]\n",
      " 47%|███████████████████████████████▋                                    | 1417216/3041136 [00:05<00:03, 506560.20it/s]\n",
      " 51%|██████████████████████████████████▊                                 | 1556480/3041136 [00:06<00:02, 550850.69it/s]\n",
      " 55%|█████████████████████████████████████▋                              | 1687552/3041136 [00:06<00:02, 566194.84it/s]\n",
      " 60%|█████████████████████████████████████████                           | 1835008/3041136 [00:06<00:01, 608776.24it/s]\n",
      " 65%|████████████████████████████████████████████▎                       | 1982464/3041136 [00:06<00:01, 629534.43it/s]\n",
      " 70%|███████████████████████████████████████████████▋                    | 2129920/3041136 [00:06<00:01, 657370.26it/s]\n",
      " 75%|███████████████████████████████████████████████████▎                | 2293760/3041136 [00:07<00:01, 685201.24it/s]\n",
      " 81%|██████████████████████████████████████████████████████▉             | 2457600/3041136 [00:07<00:00, 720712.07it/s]\n",
      " 86%|██████████████████████████████████████████████████████████▊         | 2629632/3041136 [00:07<00:00, 755301.43it/s]\n",
      " 92%|██████████████████████████████████████████████████████████████▊     | 2809856/3041136 [00:07<00:00, 792512.10it/s]\n",
      " 99%|███████████████████████████████████████████████████████████████████ | 2998272/3041136 [00:07<00:00, 831701.32it/s]"
     ]
    },
    {
     "name": "stdout",
     "output_type": "stream",
     "text": [
      "Extracting ./data\\KMNIST\\raw\\t10k-images-idx3-ubyte.gz to ./data\\KMNIST\\raw\n",
      "Downloading http://codh.rois.ac.jp/kmnist/dataset/kmnist/t10k-labels-idx1-ubyte.gz to ./data\\KMNIST\\raw\\t10k-labels-idx1-ubyte.gz\n"
     ]
    },
    {
     "name": "stderr",
     "output_type": "stream",
     "text": [
      "\n",
      "\n",
      "0it [00:00, ?it/s]\n",
      "\n",
      "8192it [00:00, 17112.78it/s]                                                                                           \n"
     ]
    },
    {
     "name": "stdout",
     "output_type": "stream",
     "text": [
      "Extracting ./data\\KMNIST\\raw\\t10k-labels-idx1-ubyte.gz to ./data\\KMNIST\\raw\n",
      "Processing...\n",
      "Done!\n",
      "Training Linear...\n"
     ]
    },
    {
     "name": "stderr",
     "output_type": "stream",
     "text": [
      "18169856it [00:40, 801580.30it/s]\n",
      "3047424it [00:25, 831701.32it/s]                                                                                       "
     ]
    },
    {
     "name": "stdout",
     "output_type": "stream",
     "text": [
      "Epoch: 0/10.. Test Accuracy: 0.4290406107902527\n",
      "Epoch: 1/10.. Test Accuracy: 0.46715763211250305\n",
      "Epoch: 2/10.. Test Accuracy: 0.46407246589660645\n",
      "Epoch: 3/10.. Test Accuracy: 0.45770302414894104\n",
      "Epoch: 4/10.. Test Accuracy: 0.45571258664131165\n",
      "Epoch: 5/10.. Test Accuracy: 0.4563097059726715\n",
      "Epoch: 6/10.. Test Accuracy: 0.45441877841949463\n",
      "Epoch: 7/10.. Test Accuracy: 0.45551353693008423\n",
      "Epoch: 8/10.. Test Accuracy: 0.4573049247264862\n",
      "Epoch: 9/10.. Test Accuracy: 0.45780253410339355\n",
      "Total time taken: 277.8839852809906 seconds\n",
      "Training FeedForward...\n",
      "Epoch: 0/10.. Test Accuracy: 0.5933519005775452\n",
      "Epoch: 1/10.. Test Accuracy: 0.6072850227355957\n",
      "Epoch: 2/10.. Test Accuracy: 0.6164410710334778\n",
      "Epoch: 3/10.. Test Accuracy: 0.6140525341033936\n",
      "Epoch: 4/10.. Test Accuracy: 0.6087778806686401\n",
      "Epoch: 5/10.. Test Accuracy: 0.6151472926139832\n",
      "Epoch: 6/10.. Test Accuracy: 0.6203224658966064\n",
      "Epoch: 7/10.. Test Accuracy: 0.6194267272949219\n",
      "Epoch: 8/10.. Test Accuracy: 0.6181329488754272\n",
      "Epoch: 9/10.. Test Accuracy: 0.6178343892097473\n",
      "Total time taken: 317.85985112190247 seconds\n",
      "Training CNN...\n",
      "Epoch: 0/10.. Test Accuracy: 0.9054538011550903\n",
      "Epoch: 1/10.. Test Accuracy: 0.9321258068084717\n",
      "Epoch: 2/10.. Test Accuracy: 0.9361066818237305\n",
      "Epoch: 3/10.. Test Accuracy: 0.9370023608207703\n",
      "Epoch: 4/10.. Test Accuracy: 0.9523288011550903\n",
      "Epoch: 5/10.. Test Accuracy: 0.9333200454711914\n",
      "Epoch: 6/10.. Test Accuracy: 0.9462579488754272\n",
      "Epoch: 7/10.. Test Accuracy: 0.9454618096351624\n",
      "Epoch: 8/10.. Test Accuracy: 0.9415804147720337\n",
      "Epoch: 9/10.. Test Accuracy: 0.949840784072876\n",
      "Total time taken: 726.5468707084656 seconds\n"
     ]
    },
    {
     "data": {
      "image/png": "[encoded data removed]",
      "text/plain": [
       "<Figure size 432x288 with 1 Axes>"
      ]
     },
     "metadata": {
      "needs_background": "light"
     },
     "output_type": "display_data"
    }
   ],
   "source": [
    "import time\n",
    "\n",
    "\n",
    "models = [Linear(), FeedForward(), CNN()]\n",
    "epochs = 10\n",
    "results = []\n",
    "\n",
    "\n",
    "for model in models:\n",
    "    start_time = time.time()\n",
    "    \n",
    "    m = NNModel(model, 0.003)\n",
    "    print(f\"Training {model.__class__.__name__}...\")\n",
    "    accuracies = [0]\n",
    "    for e in range(epochs):\n",
    "        m.train_epoch()\n",
    "        accuracy = m.eval()\n",
    "        print(f\"Epoch: {e}/{epochs}.. Test Accuracy: {accuracy}\")\n",
    "        accuracies.append(accuracy)\n",
    "    results.append(accuracies)\n",
    "    end_time = time.time()\n",
    "    print(f'Total time taken: {end_time - start_time} seconds')\n",
    "\n",
    "plot_result(results, [m.__class__.__name__ for m in models])"
   ]
  }
 ],
 "metadata": {
  "kernelspec": {
   "display_name": "Python 3",
   "language": "python",
   "name": "python3"
  },
  "language_info": {
   "codemirror_mode": {
    "name": "ipython",
    "version": 3
   },
   "file_extension": ".py",
   "mimetype": "text/x-python",
   "name": "python",
   "nbconvert_exporter": "python",
   "pygments_lexer": "ipython3",
   "version": "3.7.4"
  }
 },
 "nbformat": 4,
 "nbformat_minor": 2
}
