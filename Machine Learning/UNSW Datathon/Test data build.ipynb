{
 "cells": [
  {
   "cell_type": "code",
   "execution_count": 107,
   "metadata": {},
   "outputs": [],
   "source": [
    "# Start Python Imports\n",
    "import math, time, random, datetime\n",
    "\n",
    "# Data Manipulation\n",
    "import numpy as np\n",
    "import pandas as pd\n",
    "\n",
    "# Visualization \n",
    "import matplotlib.pyplot as plt\n",
    "import missingno\n",
    "import seaborn as sns\n",
    "plt.style.use('seaborn-whitegrid')\n",
    "\n",
    "# Import train & test data \n",
    "train = pd.read_csv('./Data/train.csv')\n",
    "test = pd.read_csv('./Data/test.csv')"
   ]
  },
  {
   "cell_type": "code",
   "execution_count": 108,
   "metadata": {},
   "outputs": [],
   "source": [
    "from word2number import w2n\n",
    "def getGender(x):\n",
    "    return 1 if x.lower() == 'm' else (0 if x.lower() == 'f' else (2 if x.lower() == 'other' else ''))\n",
    "\n",
    "def splitAgeGender(x, ret_age=True):\n",
    "    if not x or str(x) == 'nan':\n",
    "        return ''\n",
    "    \n",
    "    parts = str(x).replace(',', ' ').split()\n",
    "    age = gender = ''\n",
    "    if ret_age:\n",
    "        try:\n",
    "            age = w2n.word_to_num(parts[0])\n",
    "        except ValueError:\n",
    "            try:\n",
    "                age = float(parts[0])\n",
    "            except ValueError:\n",
    "                pass\n",
    "        if not age and len(parts) > 1:\n",
    "            try:\n",
    "                age = w2n.word_to_num(parts[1])\n",
    "            except ValueError:\n",
    "                try:\n",
    "                    age = float(parts[1])\n",
    "                except ValueError:\n",
    "                    pass\n",
    "        return age\n",
    "    else:\n",
    "        gender = getGender(parts[0])\n",
    "        if gender == '' and len(parts) > 1:\n",
    "            gender = getGender(parts[1])\n",
    "        return gender\n",
    "            \n",
    "# Added - Job and location\n",
    "def split_job_livivng(line, job = True):\n",
    "    if not line or str(line) == 'nan':\n",
    "        return 'AAA'\n",
    "    \n",
    "    part_1, part_2 = line.split('?')[:2:]\n",
    "    if job:\n",
    "        if 'gov' in part_1.lower() or 'gov' in part_2.lower():\n",
    "            part_1 = 'GOVERNMENT'\n",
    "        elif 'pri' in part_1.lower() or 'pri' in part_2.lower():\n",
    "            part_1 = 'PRIVATE'\n",
    "        elif 'bus' in part_1.lower() or 'bus' in part_2.lower() or 'biz' in part_1.lower() or 'biz' in part_2.lower():\n",
    "            part_1 = 'BUSINESS'\n",
    "        elif 'parent' in part_1.lower() or 'parent' in part_2.lower():\n",
    "            part_1 = 'PARENTAL_LEAVE'\n",
    "        elif 'unemp' in part_1.lower() or 'unemp' in part_2.lower():\n",
    "            part_1 = 'UNEMPLOYED'\n",
    "        else:\n",
    "            part_1 = 'AAA'\n",
    "        return part_1\n",
    "\n",
    "    else:    \n",
    "        if 'city' in part_1.lower() or 'city' in part_2.lower():\n",
    "            part_2 = 'CITY'\n",
    "        elif 'remo' in part_1.lower() or 'remo' in part_2.lower():\n",
    "            part_2 = 'REMOTE'        \n",
    "        elif part_1 == 'c' or part_2 == 'c':\n",
    "            part_2 = 'CITY'\n",
    "        elif part_1 == 'r' or part_2 == 'r':\n",
    "            part_2 = 'REMOTE'\n",
    "        else:\n",
    "            part_2 = 'AAA'\n",
    "        return part_2\n",
    "\n",
    "def getSmokeStatus(x):\n",
    "    x = str(x).lower()\n",
    "    x = ''.join([i for i in x if i.isalpha()])\n",
    "    return 1 if 'non' in x else (2 if 'quit' in x else (3 if 'active' in x else 0))\n",
    "\n",
    "def fixBmi(x):\n",
    "    x = str(x)\n",
    "    if x == 'nan' or x == '?' or x == '.':\n",
    "        x = 0\n",
    "        \n",
    "    return float(x)\n",
    "\n",
    "def discreteBmi(x):\n",
    "    if x < 0.5:\n",
    "        return 0\n",
    "    elif x < 18.5:\n",
    "        return 1\n",
    "    elif x < 25:\n",
    "        return 2\n",
    "    elif x < 30:\n",
    "        return 3\n",
    "    elif x < 35:\n",
    "        return 4\n",
    "    elif x < 40:\n",
    "        return 5\n",
    "    return 6\n",
    "\n",
    "def discreteBloodSugar(x):\n",
    "    if x < 70:\n",
    "        return 1\n",
    "    elif x < 120:\n",
    "        return 2\n",
    "    elif x < 200:\n",
    "        return 3\n",
    "    elif x < 280:\n",
    "        return 3\n",
    "    return 4\n",
    "\n",
    "def cleanBinary(x, flip=False):\n",
    "    val = x\n",
    "    try:\n",
    "        val = int(x)\n",
    "        if flip:\n",
    "            val = 1 if val == 1 else 0\n",
    "        else:\n",
    "            val = 0 if val == 0 else 1\n",
    "    except ValueError:\n",
    "        val = ''\n",
    "    return val\n",
    "\n",
    "def checkTreated(x):\n",
    "    if str(x['TreatmentA']) == 'nan':\n",
    "        return 0\n",
    "    return 1 if (x['TreatmentA'] == 1 or x['TreatmentB'] == 1 or x['TreatmentC'] == 1 or x['TreatmentD_2'] == 1) else 0\n",
    "\n",
    "def bmiMean(x, m):\n",
    "    if x > 0.5:\n",
    "        return x\n",
    "    return m"
   ]
  },
  {
   "cell_type": "code",
   "execution_count": 109,
   "metadata": {},
   "outputs": [],
   "source": [
    "old_df = test\n",
    "new_df = pd.DataFrame(old_df)\n",
    "\n",
    "new_df['sex'] = old_df['sex and age'].apply(lambda x: splitAgeGender(x, False))\n",
    "new_df['age'] = old_df['sex and age'].apply(lambda x: splitAgeGender(x, True))\n",
    "\n",
    "new_df['job'] = old_df['job_status and living_area'].apply(lambda x: split_job_livivng(x, True))\n",
    "new_df['location'] = old_df['job_status and living_area'].apply(lambda x: split_job_livivng(x, False))"
   ]
  },
  {
   "cell_type": "code",
   "execution_count": 110,
   "metadata": {},
   "outputs": [
    {
     "name": "stdout",
     "output_type": "stream",
     "text": [
      "['PRIVATE' 'GOVERNMENT' 'BUSINESS' 'PARENTAL_LEAVE' 'UNEMPLOYED' 'AAA']\n",
      "['AAA' 'BUSINESS' 'GOVERNMENT' 'PARENTAL_LEAVE' 'PRIVATE' 'UNEMPLOYED']\n",
      "[4 2 1 ... 4 4 2]\n"
     ]
    }
   ],
   "source": [
    "from sklearn.preprocessing import LabelEncoder\n",
    "\n",
    "encoder = LabelEncoder()\n",
    "\n",
    "job = new_df['job']\n",
    "job_encoded = encoder.fit_transform(job)\n",
    "\n",
    "print(new_df['job'].unique())\n",
    "print(encoder.classes_)\n",
    "print(job_encoded)\n",
    "\n",
    "# let's add this array to dataframe...\n",
    "new_df['job_encoded'] = job_encoded\n",
    "\n",
    "# ################\n",
    "\n",
    "location = new_df['location']\n",
    "location_encoded = encoder.fit_transform(location)\n",
    "\n",
    "# let's add this array to dataframe...\n",
    "new_df['location_encoded'] = job_encoded"
   ]
  },
  {
   "cell_type": "code",
   "execution_count": 111,
   "metadata": {},
   "outputs": [],
   "source": [
    "new_df['smoker_status_2'] = old_df['smoker_status'].apply(getSmokeStatus)\n",
    "\n",
    "new_df['BMI'] = old_df['BMI'].apply(fixBmi)\n",
    "new_df['BMI_2'] = new_df['BMI'].apply(discreteBmi)\n",
    "\n",
    "#new_df_2 = new_df[new_df['stroke_in_2018'].isin(['1', '0'])]\n",
    "#print(new_df_2['stroke_in_2018'].unique())\n",
    "new_df_2 = new_df\n",
    "new_df_2['average_blood_sugar_2'] = new_df_2['average_blood_sugar'].apply(discreteBloodSugar)\n",
    "\n",
    "new_df_2['high_BP_2'] = new_df_2['high_BP'].apply(cleanBinary)\n",
    "new_df_2['heart_condition_detected_2017_2'] = new_df_2['heart_condition_detected_2017'].apply(cleanBinary)\n",
    "new_df_2['married_2'] = new_df_2['married'].apply(cleanBinary)\n",
    "new_df_2['TreatmentD_2'] = new_df_2['TreatmentD'].apply(cleanBinary)\n",
    "new_df_2['treated'] = new_df_2.apply(lambda row: checkTreated(row), axis=1)\n",
    "new_df_3 = new_df_2[['id', 'sex', 'age', 'sex and age', 'high_BP_2', 'heart_condition_detected_2017_2', 'married_2', 'job_status and living_area', 'average_blood_sugar', 'average_blood_sugar_2', 'BMI', 'BMI_2', 'smoker_status', 'smoker_status_2', 'TreatmentA', 'TreatmentB', 'TreatmentC', 'TreatmentD_2', 'treated']]\n",
    "#new_df_3 = new_df_2[['id', 'sex', 'age', 'sex and age', 'high_BP_2', 'heart_condition_detected_2017_2', 'married_2', 'job_status and living_area', 'average_blood_sugar', 'average_blood_sugar_2', 'BMI', 'BMI_2', 'smoker_status', 'smoker_status_2', 'TreatmentA', 'TreatmentB', 'TreatmentC', 'TreatmentD_2', 'treated', 'stroke_in_2018']]\n",
    "\n",
    "new_df_3.to_csv('./Data/test_2.csv')"
   ]
  },
  {
   "cell_type": "code",
   "execution_count": 112,
   "metadata": {},
   "outputs": [
    {
     "name": "stdout",
     "output_type": "stream",
     "text": [
      "29.75997935306263\n"
     ]
    }
   ],
   "source": [
    "new_df_3 = pd.read_csv('./Data/test_2.csv')\n",
    "BMI_mean = new_df_3['BMI'].mean()\n",
    "print(BMI_mean)\n",
    "new_df_3['BMI_3'] = new_df_3['BMI'].apply(lambda x: bmiMean(x, BMI_mean))\n",
    "new_df_3.to_csv('./Data/test_2.csv')"
   ]
  },
  {
   "cell_type": "code",
   "execution_count": 113,
   "metadata": {},
   "outputs": [
    {
     "name": "stdout",
     "output_type": "stream",
     "text": [
      "sex: 14\n",
      "age: 10\n",
      "sex and age: 10\n",
      "high_BP_2: 11\n",
      "heart_condition_detected_2017_2: 5\n",
      "married_2: 2\n",
      "job_status and living_area: 10\n",
      "average_blood_sugar: 11\n",
      "smoker_status: 2697\n",
      "TreatmentA: 8302\n",
      "TreatmentB: 8302\n",
      "TreatmentC: 8302\n",
      "TreatmentD_2: 8302\n"
     ]
    }
   ],
   "source": [
    "all_is_null = zip(new_df_3.isnull(), new_df_3.isnull().sum())\n",
    "for is_null in all_is_null:\n",
    "    if is_null[1] > 0:\n",
    "        print(f'{is_null[0]}: {is_null[1]}')"
   ]
  },
  {
   "cell_type": "code",
   "execution_count": 114,
   "metadata": {},
   "outputs": [
    {
     "name": "stdout",
     "output_type": "stream",
     "text": [
      "0.404296875\n",
      "45.01434542949013\n",
      "0.09325829792121282\n",
      "0.6476594768242313\n",
      "0.1875\n"
     ]
    }
   ],
   "source": [
    "print(new_df_3['sex'].mean())\n",
    "print(new_df_3['age'].mean())\n",
    "print(new_df_3['high_BP_2'].mean())\n",
    "print(new_df_3['married_2'].mean())\n",
    "print(new_df_3['TreatmentA'].mean())"
   ]
  },
  {
   "cell_type": "code",
   "execution_count": 115,
   "metadata": {},
   "outputs": [],
   "source": [
    "new_df_3['sex'].fillna(0, inplace=True)\n",
    "new_df_3['age'].fillna(new_df_3['age'].mean(), inplace=True)\n",
    "new_df_3['high_BP_2'].fillna(0, inplace=True)\n",
    "new_df_3['heart_condition_detected_2017_2'].fillna(0, inplace=True)\n",
    "new_df_3['married_2'].fillna(1, inplace=True)\n",
    "new_df_3['TreatmentA'].fillna(0, inplace=True)\n",
    "new_df_3['TreatmentB'].fillna(0, inplace=True)\n",
    "new_df_3['TreatmentC'].fillna(0, inplace=True)\n",
    "new_df_3['TreatmentD_2'].fillna(0, inplace=True)"
   ]
  },
  {
   "cell_type": "code",
   "execution_count": 116,
   "metadata": {},
   "outputs": [],
   "source": [
    "new_df_3.to_csv('./Data/test_2.csv')"
   ]
  },
  {
   "cell_type": "code",
   "execution_count": null,
   "metadata": {},
   "outputs": [],
   "source": []
  }
 ],
 "metadata": {
  "kernelspec": {
   "display_name": "Python 3",
   "language": "python",
   "name": "python3"
  },
  "language_info": {
   "codemirror_mode": {
    "name": "ipython",
    "version": 3
   },
   "file_extension": ".py",
   "mimetype": "text/x-python",
   "name": "python",
   "nbconvert_exporter": "python",
   "pygments_lexer": "ipython3",
   "version": "3.6.4"
  }
 },
 "nbformat": 4,
 "nbformat_minor": 2
}
