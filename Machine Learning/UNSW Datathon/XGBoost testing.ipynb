{
 "cells": [
  {
   "cell_type": "code",
   "execution_count": 17,
   "metadata": {},
   "outputs": [
    {
     "name": "stderr",
     "output_type": "stream",
     "text": [
      "c:\\users\\danie\\appdata\\local\\programs\\python\\python36-32\\lib\\site-packages\\sklearn\\preprocessing\\label.py:219: DataConversionWarning: A column-vector y was passed when a 1d array was expected. Please change the shape of y to (n_samples, ), for example using ravel().\n",
      "  y = column_or_1d(y, warn=True)\n",
      "c:\\users\\danie\\appdata\\local\\programs\\python\\python36-32\\lib\\site-packages\\sklearn\\preprocessing\\label.py:252: DataConversionWarning: A column-vector y was passed when a 1d array was expected. Please change the shape of y to (n_samples, ), for example using ravel().\n",
      "  y = column_or_1d(y, warn=True)\n"
     ]
    },
    {
     "name": "stdout",
     "output_type": "stream",
     "text": [
      "Accuracy for model 7: 97.62\n"
     ]
    }
   ],
   "source": [
    "import numpy as np\n",
    "import xgboost as xgb\n",
    "import pandas as pd\n",
    "from sklearn.metrics import accuracy_score\n",
    "\n",
    "train = pd.read_csv('./Data/train_clean.csv')\n",
    "x = train[['sex', 'age', 'high_BP_2', 'heart_condition_detected_2017_2', 'married_2', 'average_blood_sugar_2', 'BMI_3', 'smoker_status_2', 'treated']].copy()\n",
    "y = train[['stroke_in_2018']].copy()\n",
    "\n",
    "x = x.to_numpy()\n",
    "y = y.to_numpy()\n",
    "sz = x.shape\n",
    "sy = y.shape\n",
    "\n",
    "train_x = x[:int(sz[0] * 0.7), :]\n",
    "test_x = x[int(sz[0] * 0.7):, :]\n",
    "\n",
    "train_y = y[:int(sy[0] * 0.7)]\n",
    "test_y = y[int(sy[0] * 0.7):]\n",
    "\n",
    "xg_train = xgb.DMatrix(train_x, label=train_y)\n",
    "xg_test = xgb.DMatrix(test_x, label=test_y)\n",
    "\n",
    "xgb2 = xgb.XGBClassifier(\n",
    " learning_rate =0.7,\n",
    " n_estimators=1000,\n",
    " max_depth=4,\n",
    " min_child_weight=6,\n",
    " gamma=0,\n",
    " subsample=0.8,\n",
    " colsample_bytree=0.8,\n",
    " objective= 'binary:logistic',\n",
    " nthread=4,\n",
    " scale_pos_weight=1,\n",
    " seed=27)\n",
    "\n",
    "train_model7 = xgb2.fit(train_x, train_y)\n",
    "pred7 = train_model7.predict(test_x)\n",
    "print(\"Accuracy for model 7: %.2f\" % (accuracy_score(test_y, pred7) * 100))"
   ]
  },
  {
   "cell_type": "code",
   "execution_count": null,
   "metadata": {},
   "outputs": [],
   "source": []
  }
 ],
 "metadata": {
  "kernelspec": {
   "display_name": "Python 3",
   "language": "python",
   "name": "python3"
  },
  "language_info": {
   "codemirror_mode": {
    "name": "ipython",
    "version": 3
   },
   "file_extension": ".py",
   "mimetype": "text/x-python",
   "name": "python",
   "nbconvert_exporter": "python",
   "pygments_lexer": "ipython3",
   "version": "3.6.4"
  }
 },
 "nbformat": 4,
 "nbformat_minor": 2
}
